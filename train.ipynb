{
 "cells": [
  {
   "cell_type": "code",
   "execution_count": 1,
   "id": "f15d3dfd",
   "metadata": {},
   "outputs": [],
   "source": [
    "import os\n",
    "import pandas as pd\n",
    "import numpy as np\n",
    "\n",
    "import matplotlib.pyplot as plt\n",
    "import seaborn as sns\n",
    "\n",
    "pd.set_option('display.max_columns', None)\n",
    "\n",
    "import warnings\n",
    "warnings.filterwarnings(\"ignore\")"
   ]
  },
  {
   "cell_type": "code",
   "execution_count": 2,
   "id": "6cc6068a",
   "metadata": {},
   "outputs": [],
   "source": [
    "def std_col_names(df):\n",
    "    \"\"\"\n",
    "    - Convert feature names to lower case\n",
    "    - Rename reporting date column \n",
    "    \"\"\"\n",
    "    df.columns = df.columns.str.lower().str.strip().str.replace(' ', '_')\n",
    "    df.rename(columns = {'employment_duration': 'property', 'debit_to_income': 'debt_to_income', 'home_ownership': 'emp_duration'}, inplace= True)\n",
    "    df['loan_title'] = df['loan_title'].str.lower().str.strip().str.replace(' ', '_')\n",
    "    return df"
   ]
  },
  {
   "cell_type": "code",
   "execution_count": 3,
   "id": "a9b5311c",
   "metadata": {},
   "outputs": [],
   "source": [
    "# Load DF\n",
    "df = std_col_names(pd.read_csv('./data/train.csv'))"
   ]
  },
  {
   "cell_type": "code",
   "execution_count": 4,
   "id": "83d499ac",
   "metadata": {},
   "outputs": [
    {
     "data": {
      "text/plain": [
       "['id',\n",
       " 'loan_amount',\n",
       " 'funded_amount',\n",
       " 'funded_amount_investor',\n",
       " 'term',\n",
       " 'batch_enrolled',\n",
       " 'interest_rate',\n",
       " 'grade',\n",
       " 'sub_grade',\n",
       " 'property',\n",
       " 'emp_duration',\n",
       " 'verification_status',\n",
       " 'payment_plan',\n",
       " 'loan_title',\n",
       " 'debt_to_income',\n",
       " 'delinquency_-_two_years',\n",
       " 'inquires_-_six_months',\n",
       " 'open_account',\n",
       " 'public_record',\n",
       " 'revolving_balance',\n",
       " 'revolving_utilities',\n",
       " 'total_accounts',\n",
       " 'initial_list_status',\n",
       " 'total_received_interest',\n",
       " 'total_received_late_fee',\n",
       " 'recoveries',\n",
       " 'collection_recovery_fee',\n",
       " 'collection_12_months_medical',\n",
       " 'application_type',\n",
       " 'last_week_pay',\n",
       " 'accounts_delinquent',\n",
       " 'total_collection_amount',\n",
       " 'total_current_balance',\n",
       " 'total_revolving_credit_limit',\n",
       " 'loan_status']"
      ]
     },
     "execution_count": 4,
     "metadata": {},
     "output_type": "execute_result"
    }
   ],
   "source": [
    "cols = df.columns.to_list()\n",
    "cols"
   ]
  },
  {
   "cell_type": "code",
   "execution_count": 5,
   "id": "33d3d547",
   "metadata": {},
   "outputs": [],
   "source": [
    "model_cols = [\n",
    "'loan_amount',\n",
    "'funded_amount',\n",
    "'funded_amount_investor',\n",
    "'term',\n",
    "'interest_rate',\n",
    "'grade',\n",
    "'property',\n",
    "'verification_status',\n",
    "'debt_to_income',\n",
    "'delinquency_-_two_years',\n",
    "'inquires_-_six_months',\n",
    "'open_account',\n",
    "'public_record',\n",
    "'revolving_balance',\n",
    "'revolving_utilities',\n",
    "'total_accounts',\n",
    "'initial_list_status',\n",
    "'total_received_interest',\n",
    "'total_received_late_fee',\n",
    "'recoveries',\n",
    "'collection_recovery_fee',\n",
    "'collection_12_months_medical',\n",
    "'application_type',\n",
    "'last_week_pay',\n",
    "'total_collection_amount',\n",
    "'total_current_balance',\n",
    "'total_revolving_credit_limit'\n",
    "]\n",
    "\n",
    "unused_cols = [\n",
    "'id',\n",
    "'batch_enrolled',\n",
    "'sub_grade',\n",
    "'emp_duration',\n",
    "'payment_plan',\n",
    "'accounts_delinquent',\n",
    "'loan_title'\n",
    "]"
   ]
  },
  {
   "cell_type": "code",
   "execution_count": 6,
   "id": "81daade5",
   "metadata": {},
   "outputs": [
    {
     "data": {
      "text/plain": [
       "34"
      ]
     },
     "execution_count": 6,
     "metadata": {},
     "output_type": "execute_result"
    }
   ],
   "source": [
    "assert list(set(model_cols) & set(unused_cols)) == []\n",
    "len(model_cols) + len(unused_cols)"
   ]
  },
  {
   "cell_type": "code",
   "execution_count": 7,
   "id": "e270cb96",
   "metadata": {},
   "outputs": [
    {
     "data": {
      "text/plain": [
       "0    61222\n",
       "1     6241\n",
       "Name: loan_status, dtype: int64"
      ]
     },
     "execution_count": 7,
     "metadata": {},
     "output_type": "execute_result"
    }
   ],
   "source": [
    "df['loan_status'].value_counts()"
   ]
  },
  {
   "cell_type": "code",
   "execution_count": 8,
   "id": "1cd39b15",
   "metadata": {},
   "outputs": [
    {
     "data": {
      "text/plain": [
       "(15305, 30610)"
      ]
     },
     "execution_count": 8,
     "metadata": {},
     "output_type": "execute_result"
    }
   ],
   "source": [
    "count_0 = int(61222*.25)\n",
    "count_1 = 2*count_0\n",
    "(count_0, count_1)"
   ]
  },
  {
   "cell_type": "markdown",
   "id": "7fd63a97",
   "metadata": {},
   "source": [
    "## Train on all features"
   ]
  },
  {
   "cell_type": "code",
   "execution_count": 9,
   "id": "c735a2ca",
   "metadata": {},
   "outputs": [],
   "source": [
    "num_cols = [\n",
    "'loan_amount',\n",
    "'funded_amount',\n",
    "'funded_amount_investor',\n",
    "'term',\n",
    "'interest_rate',\n",
    "'debt_to_income',\n",
    "'inquires_-_six_months',\n",
    "'open_account',\n",
    "'public_record',\n",
    "'revolving_balance',\n",
    "'revolving_utilities',\n",
    "'total_accounts',\n",
    "'total_received_interest',\n",
    "'total_received_late_fee',\n",
    "'recoveries',\n",
    "'collection_recovery_fee',\n",
    "'last_week_pay',\n",
    "'total_collection_amount',\n",
    "'total_current_balance',\n",
    "'total_revolving_credit_limit',\n",
    "]\n",
    "\n",
    "cat_cols =[\n",
    "'grade',\n",
    "'property',\n",
    "'verification_status',\n",
    "'delinquency_-_two_years',\n",
    "'collection_12_months_medical',\n",
    "'application_type',\n",
    "'initial_list_status',\n",
    "]"
   ]
  },
  {
   "cell_type": "code",
   "execution_count": 10,
   "id": "b0b8716f",
   "metadata": {},
   "outputs": [
    {
     "data": {
      "text/plain": [
       "27"
      ]
     },
     "execution_count": 10,
     "metadata": {},
     "output_type": "execute_result"
    }
   ],
   "source": [
    "len(cat_cols) + len(num_cols)"
   ]
  },
  {
   "cell_type": "code",
   "execution_count": 11,
   "id": "9f11fb80",
   "metadata": {},
   "outputs": [
    {
     "data": {
      "text/html": [
       "<div>\n",
       "<style scoped>\n",
       "    .dataframe tbody tr th:only-of-type {\n",
       "        vertical-align: middle;\n",
       "    }\n",
       "\n",
       "    .dataframe tbody tr th {\n",
       "        vertical-align: top;\n",
       "    }\n",
       "\n",
       "    .dataframe thead th {\n",
       "        text-align: right;\n",
       "    }\n",
       "</style>\n",
       "<table border=\"1\" class=\"dataframe\">\n",
       "  <thead>\n",
       "    <tr style=\"text-align: right;\">\n",
       "      <th></th>\n",
       "      <th>id</th>\n",
       "      <th>loan_amount</th>\n",
       "      <th>funded_amount</th>\n",
       "      <th>funded_amount_investor</th>\n",
       "      <th>term</th>\n",
       "      <th>batch_enrolled</th>\n",
       "      <th>interest_rate</th>\n",
       "      <th>grade</th>\n",
       "      <th>sub_grade</th>\n",
       "      <th>property</th>\n",
       "      <th>emp_duration</th>\n",
       "      <th>verification_status</th>\n",
       "      <th>payment_plan</th>\n",
       "      <th>loan_title</th>\n",
       "      <th>debt_to_income</th>\n",
       "      <th>delinquency_-_two_years</th>\n",
       "      <th>inquires_-_six_months</th>\n",
       "      <th>open_account</th>\n",
       "      <th>public_record</th>\n",
       "      <th>revolving_balance</th>\n",
       "      <th>revolving_utilities</th>\n",
       "      <th>total_accounts</th>\n",
       "      <th>initial_list_status</th>\n",
       "      <th>total_received_interest</th>\n",
       "      <th>total_received_late_fee</th>\n",
       "      <th>recoveries</th>\n",
       "      <th>collection_recovery_fee</th>\n",
       "      <th>collection_12_months_medical</th>\n",
       "      <th>application_type</th>\n",
       "      <th>last_week_pay</th>\n",
       "      <th>accounts_delinquent</th>\n",
       "      <th>total_collection_amount</th>\n",
       "      <th>total_current_balance</th>\n",
       "      <th>total_revolving_credit_limit</th>\n",
       "      <th>loan_status</th>\n",
       "    </tr>\n",
       "  </thead>\n",
       "  <tbody>\n",
       "    <tr>\n",
       "      <th>0</th>\n",
       "      <td>65087372</td>\n",
       "      <td>10000</td>\n",
       "      <td>32236</td>\n",
       "      <td>12329.36286</td>\n",
       "      <td>59</td>\n",
       "      <td>BAT2522922</td>\n",
       "      <td>11.135007</td>\n",
       "      <td>B</td>\n",
       "      <td>C4</td>\n",
       "      <td>MORTGAGE</td>\n",
       "      <td>176346.62670</td>\n",
       "      <td>Not Verified</td>\n",
       "      <td>n</td>\n",
       "      <td>debt_consolidation</td>\n",
       "      <td>16.284758</td>\n",
       "      <td>1</td>\n",
       "      <td>0</td>\n",
       "      <td>13</td>\n",
       "      <td>0</td>\n",
       "      <td>24246</td>\n",
       "      <td>74.932551</td>\n",
       "      <td>7</td>\n",
       "      <td>w</td>\n",
       "      <td>2929.646315</td>\n",
       "      <td>0.102055</td>\n",
       "      <td>2.498291</td>\n",
       "      <td>0.793724</td>\n",
       "      <td>0</td>\n",
       "      <td>INDIVIDUAL</td>\n",
       "      <td>49</td>\n",
       "      <td>0</td>\n",
       "      <td>31</td>\n",
       "      <td>311301</td>\n",
       "      <td>6619</td>\n",
       "      <td>0</td>\n",
       "    </tr>\n",
       "    <tr>\n",
       "      <th>1</th>\n",
       "      <td>1450153</td>\n",
       "      <td>3609</td>\n",
       "      <td>11940</td>\n",
       "      <td>12191.99692</td>\n",
       "      <td>59</td>\n",
       "      <td>BAT1586599</td>\n",
       "      <td>12.237563</td>\n",
       "      <td>C</td>\n",
       "      <td>D3</td>\n",
       "      <td>RENT</td>\n",
       "      <td>39833.92100</td>\n",
       "      <td>Source Verified</td>\n",
       "      <td>n</td>\n",
       "      <td>debt_consolidation</td>\n",
       "      <td>15.412409</td>\n",
       "      <td>0</td>\n",
       "      <td>0</td>\n",
       "      <td>12</td>\n",
       "      <td>0</td>\n",
       "      <td>812</td>\n",
       "      <td>78.297186</td>\n",
       "      <td>13</td>\n",
       "      <td>f</td>\n",
       "      <td>772.769385</td>\n",
       "      <td>0.036181</td>\n",
       "      <td>2.377215</td>\n",
       "      <td>0.974821</td>\n",
       "      <td>0</td>\n",
       "      <td>INDIVIDUAL</td>\n",
       "      <td>109</td>\n",
       "      <td>0</td>\n",
       "      <td>53</td>\n",
       "      <td>182610</td>\n",
       "      <td>20885</td>\n",
       "      <td>0</td>\n",
       "    </tr>\n",
       "    <tr>\n",
       "      <th>2</th>\n",
       "      <td>1969101</td>\n",
       "      <td>28276</td>\n",
       "      <td>9311</td>\n",
       "      <td>21603.22455</td>\n",
       "      <td>59</td>\n",
       "      <td>BAT2136391</td>\n",
       "      <td>12.545884</td>\n",
       "      <td>F</td>\n",
       "      <td>D4</td>\n",
       "      <td>MORTGAGE</td>\n",
       "      <td>91506.69105</td>\n",
       "      <td>Source Verified</td>\n",
       "      <td>n</td>\n",
       "      <td>debt_consolidation</td>\n",
       "      <td>28.137619</td>\n",
       "      <td>0</td>\n",
       "      <td>0</td>\n",
       "      <td>14</td>\n",
       "      <td>0</td>\n",
       "      <td>1843</td>\n",
       "      <td>2.073040</td>\n",
       "      <td>20</td>\n",
       "      <td>w</td>\n",
       "      <td>863.324396</td>\n",
       "      <td>18.778660</td>\n",
       "      <td>4.316277</td>\n",
       "      <td>1.020075</td>\n",
       "      <td>0</td>\n",
       "      <td>INDIVIDUAL</td>\n",
       "      <td>66</td>\n",
       "      <td>0</td>\n",
       "      <td>34</td>\n",
       "      <td>89801</td>\n",
       "      <td>26155</td>\n",
       "      <td>0</td>\n",
       "    </tr>\n",
       "    <tr>\n",
       "      <th>3</th>\n",
       "      <td>6651430</td>\n",
       "      <td>11170</td>\n",
       "      <td>6954</td>\n",
       "      <td>17877.15585</td>\n",
       "      <td>59</td>\n",
       "      <td>BAT2428731</td>\n",
       "      <td>16.731201</td>\n",
       "      <td>C</td>\n",
       "      <td>C3</td>\n",
       "      <td>MORTGAGE</td>\n",
       "      <td>108286.57590</td>\n",
       "      <td>Source Verified</td>\n",
       "      <td>n</td>\n",
       "      <td>debt_consolidation</td>\n",
       "      <td>18.043730</td>\n",
       "      <td>1</td>\n",
       "      <td>0</td>\n",
       "      <td>7</td>\n",
       "      <td>0</td>\n",
       "      <td>13819</td>\n",
       "      <td>67.467951</td>\n",
       "      <td>12</td>\n",
       "      <td>w</td>\n",
       "      <td>288.173196</td>\n",
       "      <td>0.044131</td>\n",
       "      <td>0.107020</td>\n",
       "      <td>0.749971</td>\n",
       "      <td>0</td>\n",
       "      <td>INDIVIDUAL</td>\n",
       "      <td>39</td>\n",
       "      <td>0</td>\n",
       "      <td>40</td>\n",
       "      <td>9189</td>\n",
       "      <td>60214</td>\n",
       "      <td>0</td>\n",
       "    </tr>\n",
       "    <tr>\n",
       "      <th>4</th>\n",
       "      <td>14354669</td>\n",
       "      <td>16890</td>\n",
       "      <td>13226</td>\n",
       "      <td>13539.92667</td>\n",
       "      <td>59</td>\n",
       "      <td>BAT5341619</td>\n",
       "      <td>15.008300</td>\n",
       "      <td>C</td>\n",
       "      <td>D4</td>\n",
       "      <td>MORTGAGE</td>\n",
       "      <td>44234.82545</td>\n",
       "      <td>Source Verified</td>\n",
       "      <td>n</td>\n",
       "      <td>credit_card_refinancing</td>\n",
       "      <td>17.209886</td>\n",
       "      <td>1</td>\n",
       "      <td>3</td>\n",
       "      <td>13</td>\n",
       "      <td>1</td>\n",
       "      <td>1544</td>\n",
       "      <td>85.250761</td>\n",
       "      <td>22</td>\n",
       "      <td>w</td>\n",
       "      <td>129.239553</td>\n",
       "      <td>19.306646</td>\n",
       "      <td>1294.818751</td>\n",
       "      <td>0.368953</td>\n",
       "      <td>0</td>\n",
       "      <td>INDIVIDUAL</td>\n",
       "      <td>18</td>\n",
       "      <td>0</td>\n",
       "      <td>430</td>\n",
       "      <td>126029</td>\n",
       "      <td>22579</td>\n",
       "      <td>0</td>\n",
       "    </tr>\n",
       "  </tbody>\n",
       "</table>\n",
       "</div>"
      ],
      "text/plain": [
       "         id  loan_amount  funded_amount  funded_amount_investor  term  \\\n",
       "0  65087372        10000          32236             12329.36286    59   \n",
       "1   1450153         3609          11940             12191.99692    59   \n",
       "2   1969101        28276           9311             21603.22455    59   \n",
       "3   6651430        11170           6954             17877.15585    59   \n",
       "4  14354669        16890          13226             13539.92667    59   \n",
       "\n",
       "  batch_enrolled  interest_rate grade sub_grade  property  emp_duration  \\\n",
       "0     BAT2522922      11.135007     B        C4  MORTGAGE  176346.62670   \n",
       "1     BAT1586599      12.237563     C        D3      RENT   39833.92100   \n",
       "2     BAT2136391      12.545884     F        D4  MORTGAGE   91506.69105   \n",
       "3     BAT2428731      16.731201     C        C3  MORTGAGE  108286.57590   \n",
       "4     BAT5341619      15.008300     C        D4  MORTGAGE   44234.82545   \n",
       "\n",
       "  verification_status payment_plan               loan_title  debt_to_income  \\\n",
       "0        Not Verified            n       debt_consolidation       16.284758   \n",
       "1     Source Verified            n       debt_consolidation       15.412409   \n",
       "2     Source Verified            n       debt_consolidation       28.137619   \n",
       "3     Source Verified            n       debt_consolidation       18.043730   \n",
       "4     Source Verified            n  credit_card_refinancing       17.209886   \n",
       "\n",
       "   delinquency_-_two_years  inquires_-_six_months  open_account  \\\n",
       "0                        1                      0            13   \n",
       "1                        0                      0            12   \n",
       "2                        0                      0            14   \n",
       "3                        1                      0             7   \n",
       "4                        1                      3            13   \n",
       "\n",
       "   public_record  revolving_balance  revolving_utilities  total_accounts  \\\n",
       "0              0              24246            74.932551               7   \n",
       "1              0                812            78.297186              13   \n",
       "2              0               1843             2.073040              20   \n",
       "3              0              13819            67.467951              12   \n",
       "4              1               1544            85.250761              22   \n",
       "\n",
       "  initial_list_status  total_received_interest  total_received_late_fee  \\\n",
       "0                   w              2929.646315                 0.102055   \n",
       "1                   f               772.769385                 0.036181   \n",
       "2                   w               863.324396                18.778660   \n",
       "3                   w               288.173196                 0.044131   \n",
       "4                   w               129.239553                19.306646   \n",
       "\n",
       "    recoveries  collection_recovery_fee  collection_12_months_medical  \\\n",
       "0     2.498291                 0.793724                             0   \n",
       "1     2.377215                 0.974821                             0   \n",
       "2     4.316277                 1.020075                             0   \n",
       "3     0.107020                 0.749971                             0   \n",
       "4  1294.818751                 0.368953                             0   \n",
       "\n",
       "  application_type  last_week_pay  accounts_delinquent  \\\n",
       "0       INDIVIDUAL             49                    0   \n",
       "1       INDIVIDUAL            109                    0   \n",
       "2       INDIVIDUAL             66                    0   \n",
       "3       INDIVIDUAL             39                    0   \n",
       "4       INDIVIDUAL             18                    0   \n",
       "\n",
       "   total_collection_amount  total_current_balance  \\\n",
       "0                       31                 311301   \n",
       "1                       53                 182610   \n",
       "2                       34                  89801   \n",
       "3                       40                   9189   \n",
       "4                      430                 126029   \n",
       "\n",
       "   total_revolving_credit_limit  loan_status  \n",
       "0                          6619            0  \n",
       "1                         20885            0  \n",
       "2                         26155            0  \n",
       "3                         60214            0  \n",
       "4                         22579            0  "
      ]
     },
     "execution_count": 11,
     "metadata": {},
     "output_type": "execute_result"
    }
   ],
   "source": [
    "df.head()"
   ]
  },
  {
   "cell_type": "code",
   "execution_count": 12,
   "id": "fbfa4dde",
   "metadata": {},
   "outputs": [],
   "source": [
    "from sklearn.model_selection import train_test_split\n",
    "from sklearn.ensemble import RandomForestClassifier\n",
    "from sklearn.feature_extraction import DictVectorizer\n",
    "from sklearn.metrics import log_loss, classification_report, confusion_matrix"
   ]
  },
  {
   "cell_type": "code",
   "execution_count": 13,
   "id": "04f360eb",
   "metadata": {},
   "outputs": [],
   "source": [
    "x_train, x_val, y_train, y_val = train_test_split(df[num_cols+cat_cols], df['loan_status'], stratify= df['loan_status'], random_state=42, test_size=0.15)"
   ]
  },
  {
   "cell_type": "code",
   "execution_count": 14,
   "id": "b56ba9ae",
   "metadata": {},
   "outputs": [
    {
     "data": {
      "text/plain": [
       "(57343, 10120)"
      ]
     },
     "execution_count": 14,
     "metadata": {},
     "output_type": "execute_result"
    }
   ],
   "source": [
    "len(x_train), len(x_val)"
   ]
  },
  {
   "cell_type": "code",
   "execution_count": 15,
   "id": "bc7256bd",
   "metadata": {},
   "outputs": [],
   "source": [
    "x_train = x_train.reset_index(drop= True)\n",
    "x_val = x_val.reset_index(drop= True)\n",
    "y_train = y_train.reset_index(drop= True)\n",
    "y_val = y_val.reset_index(drop= True)"
   ]
  },
  {
   "cell_type": "code",
   "execution_count": 16,
   "id": "a0435704",
   "metadata": {},
   "outputs": [],
   "source": [
    "def transform_dv(df, dv=None, train= False):\n",
    "    \"\"\"\n",
    "    DictVectorize a dataframe\n",
    "    \"\"\"\n",
    "    df_dict = df.to_dict(orient= 'records')\n",
    "    \n",
    "    if train:\n",
    "        dv = DictVectorizer(sparse= False)\n",
    "        train_dv = dv.fit_transform(df_dict)\n",
    "        return df_dict, dv, train_dv\n",
    "    else:\n",
    "        try:\n",
    "            val_dv = dv.transform(df_dict)\n",
    "            return df_dict, val_dv\n",
    "        except TypeError:\n",
    "            print('DictVectorizer was not passed for non-train set')"
   ]
  },
  {
   "cell_type": "code",
   "execution_count": 17,
   "id": "76c4eb59",
   "metadata": {},
   "outputs": [],
   "source": [
    "train_dict, dv, train_dv = transform_dv(x_train, train= True)"
   ]
  },
  {
   "cell_type": "code",
   "execution_count": 18,
   "id": "56904fd9",
   "metadata": {},
   "outputs": [
    {
     "data": {
      "text/plain": [
       "39"
      ]
     },
     "execution_count": 18,
     "metadata": {},
     "output_type": "execute_result"
    }
   ],
   "source": [
    "len(dv.get_feature_names())"
   ]
  },
  {
   "cell_type": "code",
   "execution_count": 19,
   "id": "00e93e8c",
   "metadata": {},
   "outputs": [],
   "source": [
    "val_dict, val_dv = transform_dv(x_val, dv= dv)"
   ]
  },
  {
   "cell_type": "markdown",
   "id": "757c851f",
   "metadata": {},
   "source": [
    "## Baseline RF"
   ]
  },
  {
   "cell_type": "code",
   "execution_count": 20,
   "id": "f9515011",
   "metadata": {},
   "outputs": [],
   "source": [
    "rf= RandomForestClassifier(max_depth= 10, n_estimators= 150, random_state= 42, class_weight= 'balanced_subsample', criterion= 'entropy')"
   ]
  },
  {
   "cell_type": "code",
   "execution_count": 21,
   "id": "da68e9b2",
   "metadata": {},
   "outputs": [
    {
     "data": {
      "text/plain": [
       "RandomForestClassifier(class_weight='balanced_subsample', criterion='entropy',\n",
       "                       max_depth=10, n_estimators=150, random_state=42)"
      ]
     },
     "execution_count": 21,
     "metadata": {},
     "output_type": "execute_result"
    }
   ],
   "source": [
    "rf.fit(train_dv, y_train)"
   ]
  },
  {
   "cell_type": "code",
   "execution_count": 22,
   "id": "149e79da",
   "metadata": {},
   "outputs": [],
   "source": [
    "y_train_pred = rf.predict(train_dv)\n",
    "ll_train = log_loss(y_train, y_train_pred)\n"
   ]
  },
  {
   "cell_type": "code",
   "execution_count": 23,
   "id": "7ff6ed7b",
   "metadata": {},
   "outputs": [
    {
     "data": {
      "text/plain": [
       "array([0.50949662, 0.45382673, 0.49374999, ..., 0.43891635, 0.45676402,\n",
       "       0.49724359])"
      ]
     },
     "execution_count": 23,
     "metadata": {},
     "output_type": "execute_result"
    }
   ],
   "source": [
    "y_train_pred_proba = rf.predict_proba(train_dv)\n",
    "y_train_pred_proba[:,1]"
   ]
  },
  {
   "cell_type": "code",
   "execution_count": 24,
   "id": "4bc2b84d",
   "metadata": {},
   "outputs": [],
   "source": [
    "def prep_report(true_val, pred_val, targets = ['non-default (0)', 'default (1)']):\n",
    "    ll = log_loss(true_val, pred_val)\n",
    "    \n",
    "    report = classification_report(true_val, pred_val, target_names= targets)\n",
    "    \n",
    "    print(f'Log loss: {ll}\\n'), print(f'Classification Report:\\n {report}')\n",
    "    \n",
    "    return ll, report\n",
    "\n"
   ]
  },
  {
   "cell_type": "code",
   "execution_count": 25,
   "id": "c8bcb5be",
   "metadata": {},
   "outputs": [
    {
     "name": "stdout",
     "output_type": "stream",
     "text": [
      "Log loss: 4.38797113161583\n",
      "\n",
      "Classification Report:\n",
      "                  precision    recall  f1-score   support\n",
      "\n",
      "non-default (0)       0.96      0.89      0.93     52038\n",
      "    default (1)       0.39      0.67      0.50      5305\n",
      "\n",
      "       accuracy                           0.87     57343\n",
      "      macro avg       0.68      0.78      0.71     57343\n",
      "   weighted avg       0.91      0.87      0.89     57343\n",
      "\n",
      "Log loss: 7.000003821968507\n",
      "\n",
      "Classification Report:\n",
      "                  precision    recall  f1-score   support\n",
      "\n",
      "non-default (0)       0.91      0.86      0.89      9184\n",
      "    default (1)       0.10      0.16      0.12       936\n",
      "\n",
      "       accuracy                           0.80     10120\n",
      "      macro avg       0.51      0.51      0.51     10120\n",
      "   weighted avg       0.83      0.80      0.82     10120\n",
      "\n"
     ]
    }
   ],
   "source": [
    "ll1, cr1 = prep_report(y_train, y_train_pred)\n",
    "\n",
    "y_val_pred = rf.predict(val_dv)\n",
    "\n",
    "ll2, cr2 = prep_report(y_val, y_val_pred)"
   ]
  },
  {
   "cell_type": "markdown",
   "id": "1b727be2",
   "metadata": {},
   "source": [
    "## Using SMOTE (imblearn)"
   ]
  },
  {
   "cell_type": "code",
   "execution_count": 26,
   "id": "16cc330a",
   "metadata": {},
   "outputs": [
    {
     "name": "stdout",
     "output_type": "stream",
     "text": [
      "train distrib:\n",
      "0    52038\n",
      "1     5305\n",
      "Name: loan_status, dtype: int64\n",
      "val distrib:\n",
      "0    9184\n",
      "1     936\n",
      "Name: loan_status, dtype: int64\n"
     ]
    }
   ],
   "source": [
    "# Observe imbalance of classes in set\n",
    "print(f'train distrib:\\n{y_train.value_counts()}\\nval distrib:\\n{y_val.value_counts()}')"
   ]
  },
  {
   "cell_type": "code",
   "execution_count": 27,
   "id": "5ea268d7",
   "metadata": {},
   "outputs": [],
   "source": [
    "from imblearn.over_sampling import SMOTE"
   ]
  },
  {
   "cell_type": "code",
   "execution_count": 28,
   "id": "ed0090f5",
   "metadata": {},
   "outputs": [],
   "source": [
    "smote = SMOTE(sampling_strategy= 'not majority', random_state= 42, k_neighbors= 5)\n",
    "\n",
    "x_train_bal, y_train_bal = smote.fit_resample(train_dv, y_train)"
   ]
  },
  {
   "cell_type": "code",
   "execution_count": 29,
   "id": "f4334c54",
   "metadata": {},
   "outputs": [
    {
     "name": "stdout",
     "output_type": "stream",
     "text": [
      "train distrib after resampling:\n",
      "0    52038\n",
      "1    52038\n",
      "Name: loan_status, dtype: int64\n"
     ]
    }
   ],
   "source": [
    "print(f'train distrib after resampling:\\n{y_train_bal.value_counts()}')"
   ]
  },
  {
   "cell_type": "code",
   "execution_count": 30,
   "id": "3be115b5",
   "metadata": {},
   "outputs": [
    {
     "data": {
      "text/plain": [
       "RandomForestClassifier(max_depth=5, n_estimators=150, random_state=42)"
      ]
     },
     "execution_count": 30,
     "metadata": {},
     "output_type": "execute_result"
    }
   ],
   "source": [
    "rf_bal= RandomForestClassifier(max_depth= 5, n_estimators= 150, random_state= 42, criterion= 'gini')\n",
    "rf_bal.fit(x_train_bal, y_train_bal)"
   ]
  },
  {
   "cell_type": "code",
   "execution_count": 31,
   "id": "eef31d9a",
   "metadata": {},
   "outputs": [
    {
     "name": "stdout",
     "output_type": "stream",
     "text": [
      "Log loss: 2.54006490762754\n",
      "\n",
      "Classification Report:\n",
      "                  precision    recall  f1-score   support\n",
      "\n",
      "non-default (0)       0.87      1.00      0.93     52038\n",
      "    default (1)       1.00      0.85      0.92     52038\n",
      "\n",
      "       accuracy                           0.93    104076\n",
      "      macro avg       0.94      0.93      0.93    104076\n",
      "   weighted avg       0.94      0.93      0.93    104076\n",
      "\n"
     ]
    }
   ],
   "source": [
    "rf_bal_train_pred = rf_bal.predict(x_train_bal)\n",
    "ll3, cr3 = prep_report(y_train_bal, rf_bal_train_pred)"
   ]
  },
  {
   "cell_type": "code",
   "execution_count": 32,
   "id": "cd56e449",
   "metadata": {},
   "outputs": [
    {
     "name": "stdout",
     "output_type": "stream",
     "text": [
      "Log loss: 3.1944955242723716\n",
      "\n",
      "Classification Report:\n",
      "                  precision    recall  f1-score   support\n",
      "\n",
      "non-default (0)       0.91      1.00      0.95      9184\n",
      "    default (1)       0.00      0.00      0.00       936\n",
      "\n",
      "       accuracy                           0.91     10120\n",
      "      macro avg       0.45      0.50      0.48     10120\n",
      "   weighted avg       0.82      0.91      0.86     10120\n",
      "\n"
     ]
    }
   ],
   "source": [
    "rf_bal_val_pred = rf_bal.predict(val_dv)\n",
    "ll4, cr4 = prep_report(y_val, rf_bal_val_pred)"
   ]
  },
  {
   "cell_type": "markdown",
   "id": "a1a75b07",
   "metadata": {},
   "source": [
    "## Feature Selection"
   ]
  },
  {
   "cell_type": "code",
   "execution_count": 33,
   "id": "3d19312c",
   "metadata": {},
   "outputs": [],
   "source": [
    "df['bal_acc'] = df['total_accounts'] - df['open_account']\n"
   ]
  },
  {
   "cell_type": "code",
   "execution_count": 34,
   "id": "c5cf9b72",
   "metadata": {},
   "outputs": [],
   "source": [
    "skim_num_cols = [\n",
    "'revolving_utilities',\n",
    "'total_received_interest',\n",
    "'interest_rate',\n",
    "'debt_to_income',\n",
    "'funded_amount_investor',\n",
    "'total_received_late_fee',\n",
    "'recoveries',\n",
    "'collection_recovery_fee',\n",
    "'total_current_balance',\n",
    "'total_revolving_credit_limit',\n",
    "'loan_amount',\n",
    "'funded_amount',\n",
    "'revolving_balance',\n",
    "'bal_acc'\n",
    "]"
   ]
  },
  {
   "cell_type": "code",
   "execution_count": 35,
   "id": "47680133",
   "metadata": {},
   "outputs": [],
   "source": [
    "x_train, x_val, y_train, y_val = train_test_split(df[skim_num_cols+cat_cols], df['loan_status'], stratify= df['loan_status'], random_state=42, test_size=0.15)"
   ]
  },
  {
   "cell_type": "code",
   "execution_count": 36,
   "id": "9be9b302",
   "metadata": {},
   "outputs": [],
   "source": [
    "train_dict, dv, train_dv = transform_dv(x_train, train= True)\n",
    "\n",
    "val_dict, val_dv = transform_dv(x_val, dv= dv)"
   ]
  },
  {
   "cell_type": "code",
   "execution_count": 37,
   "id": "38df94db",
   "metadata": {},
   "outputs": [],
   "source": [
    "smote2= SMOTE(sampling_strategy= 'minority', random_state= 42, k_neighbors= 5)\n",
    "x_train_bal, y_train_bal = smote2.fit_resample(train_dv, y_train)"
   ]
  },
  {
   "cell_type": "code",
   "execution_count": 38,
   "id": "80a2dee4",
   "metadata": {},
   "outputs": [
    {
     "data": {
      "text/plain": [
       "RandomForestClassifier(class_weight='balanced_subsample', criterion='entropy',\n",
       "                       max_depth=3, random_state=42)"
      ]
     },
     "execution_count": 38,
     "metadata": {},
     "output_type": "execute_result"
    }
   ],
   "source": [
    "rf_skim = RandomForestClassifier(max_depth= 3, n_estimators= 100, random_state= 42, class_weight= 'balanced_subsample', criterion= 'entropy')\n",
    "rf_skim.fit(x_train_bal, y_train_bal)"
   ]
  },
  {
   "cell_type": "code",
   "execution_count": 39,
   "id": "b34dd0b8",
   "metadata": {},
   "outputs": [
    {
     "name": "stdout",
     "output_type": "stream",
     "text": [
      "Log loss: 3.3484828932433697\n",
      "\n",
      "Classification Report:\n",
      "                  precision    recall  f1-score   support\n",
      "\n",
      "non-default (0)       0.84      0.99      0.91     52038\n",
      "    default (1)       0.99      0.82      0.89     52038\n",
      "\n",
      "       accuracy                           0.90    104076\n",
      "      macro avg       0.92      0.90      0.90    104076\n",
      "   weighted avg       0.92      0.90      0.90    104076\n",
      "\n"
     ]
    }
   ],
   "source": [
    "rf_bal_train_pred = rf_skim.predict(x_train_bal)\n",
    "ll5, cr5 = prep_report(y_train_bal, rf_bal_train_pred)"
   ]
  },
  {
   "cell_type": "code",
   "execution_count": 40,
   "id": "3c59105c",
   "metadata": {},
   "outputs": [
    {
     "name": "stdout",
     "output_type": "stream",
     "text": [
      "Log loss: 3.4538845135005976\n",
      "\n",
      "Classification Report:\n",
      "                  precision    recall  f1-score   support\n",
      "\n",
      "non-default (0)       0.91      0.99      0.95      9184\n",
      "    default (1)       0.11      0.01      0.02       936\n",
      "\n",
      "       accuracy                           0.90     10120\n",
      "      macro avg       0.51      0.50      0.48     10120\n",
      "   weighted avg       0.83      0.90      0.86     10120\n",
      "\n"
     ]
    }
   ],
   "source": [
    "rf_bal_val_pred = rf_skim.predict(val_dv)\n",
    "ll6, cr6 = prep_report(y_val, rf_bal_val_pred)"
   ]
  },
  {
   "cell_type": "markdown",
   "id": "7224e661",
   "metadata": {},
   "source": [
    "## Under-over sampling"
   ]
  },
  {
   "cell_type": "code",
   "execution_count": 41,
   "id": "96f0a686",
   "metadata": {},
   "outputs": [],
   "source": [
    "from imblearn.under_sampling import RandomUnderSampler\n",
    "from imblearn.pipeline import Pipeline\n",
    "from sklearn.model_selection import RepeatedStratifiedKFold\n",
    "from sklearn.model_selection import cross_val_score"
   ]
  },
  {
   "cell_type": "code",
   "execution_count": 42,
   "id": "248b40df",
   "metadata": {},
   "outputs": [],
   "source": [
    "full_dict, dv, full_dv = transform_dv(df[skim_num_cols+cat_cols], train= True)"
   ]
  },
  {
   "cell_type": "code",
   "execution_count": 43,
   "id": "727429e3",
   "metadata": {},
   "outputs": [
    {
     "data": {
      "text/plain": [
       "33"
      ]
     },
     "execution_count": 43,
     "metadata": {},
     "output_type": "execute_result"
    }
   ],
   "source": [
    "len(dv.get_feature_names())"
   ]
  },
  {
   "cell_type": "markdown",
   "id": "34d3981a",
   "metadata": {},
   "source": [
    "## Cross-Validation"
   ]
  },
  {
   "cell_type": "code",
   "execution_count": 44,
   "id": "e8345924",
   "metadata": {},
   "outputs": [],
   "source": [
    "rf_ou = RandomForestClassifier()\n",
    "over = SMOTE(sampling_strategy=0.25)\n",
    "under= RandomUnderSampler(sampling_strategy= 0.5)\n",
    "steps = [('over', over), ('under', under), ('model', rf_ou)]\n",
    "pipeline = Pipeline(steps = steps)\n",
    "cv = RepeatedStratifiedKFold(n_splits=10, n_repeats=3, random_state=42)\n"
   ]
  },
  {
   "cell_type": "code",
   "execution_count": 45,
   "id": "3e3358ad",
   "metadata": {},
   "outputs": [
    {
     "data": {
      "text/plain": [
       "['accuracy',\n",
       " 'adjusted_mutual_info_score',\n",
       " 'adjusted_rand_score',\n",
       " 'average_precision',\n",
       " 'balanced_accuracy',\n",
       " 'completeness_score',\n",
       " 'explained_variance',\n",
       " 'f1',\n",
       " 'f1_macro',\n",
       " 'f1_micro',\n",
       " 'f1_samples',\n",
       " 'f1_weighted',\n",
       " 'fowlkes_mallows_score',\n",
       " 'homogeneity_score',\n",
       " 'jaccard',\n",
       " 'jaccard_macro',\n",
       " 'jaccard_micro',\n",
       " 'jaccard_samples',\n",
       " 'jaccard_weighted',\n",
       " 'max_error',\n",
       " 'mutual_info_score',\n",
       " 'neg_brier_score',\n",
       " 'neg_log_loss',\n",
       " 'neg_mean_absolute_error',\n",
       " 'neg_mean_absolute_percentage_error',\n",
       " 'neg_mean_gamma_deviance',\n",
       " 'neg_mean_poisson_deviance',\n",
       " 'neg_mean_squared_error',\n",
       " 'neg_mean_squared_log_error',\n",
       " 'neg_median_absolute_error',\n",
       " 'neg_root_mean_squared_error',\n",
       " 'normalized_mutual_info_score',\n",
       " 'precision',\n",
       " 'precision_macro',\n",
       " 'precision_micro',\n",
       " 'precision_samples',\n",
       " 'precision_weighted',\n",
       " 'r2',\n",
       " 'rand_score',\n",
       " 'recall',\n",
       " 'recall_macro',\n",
       " 'recall_micro',\n",
       " 'recall_samples',\n",
       " 'recall_weighted',\n",
       " 'roc_auc',\n",
       " 'roc_auc_ovo',\n",
       " 'roc_auc_ovo_weighted',\n",
       " 'roc_auc_ovr',\n",
       " 'roc_auc_ovr_weighted',\n",
       " 'top_k_accuracy',\n",
       " 'v_measure_score']"
      ]
     },
     "execution_count": 45,
     "metadata": {},
     "output_type": "execute_result"
    }
   ],
   "source": [
    "import sklearn\n",
    "sorted(sklearn.metrics.SCORERS.keys())"
   ]
  },
  {
   "cell_type": "code",
   "execution_count": 46,
   "id": "ef4fcc68",
   "metadata": {},
   "outputs": [],
   "source": [
    "# scores = cross_val_score(pipeline, full_dv, df['loan_status'], cv= cv, scoring= 'recall', verbose= 2, n_jobs= 4)"
   ]
  },
  {
   "cell_type": "code",
   "execution_count": 47,
   "id": "6f166d88",
   "metadata": {},
   "outputs": [
    {
     "data": {
      "text/plain": [
       "Pipeline(steps=[('over', SMOTE(sampling_strategy=0.25)),\n",
       "                ('under', RandomUnderSampler(sampling_strategy=0.5)),\n",
       "                ('model', RandomForestClassifier())])"
      ]
     },
     "execution_count": 47,
     "metadata": {},
     "output_type": "execute_result"
    }
   ],
   "source": [
    "pipeline.fit(full_dv, df['loan_status'])"
   ]
  },
  {
   "cell_type": "code",
   "execution_count": 48,
   "id": "46f55c95",
   "metadata": {},
   "outputs": [],
   "source": [
    "over = SMOTE(sampling_strategy=0.25)\n",
    "x_over, y_over = over.fit_resample(full_dv, df['loan_status'])"
   ]
  },
  {
   "cell_type": "code",
   "execution_count": 49,
   "id": "55c80bc2",
   "metadata": {},
   "outputs": [],
   "source": [
    "under = RandomUnderSampler(sampling_strategy= 0.5)\n",
    "x_ou, y_ou = under.fit_resample(x_over, y_over)"
   ]
  },
  {
   "cell_type": "markdown",
   "id": "e1e10ca2",
   "metadata": {},
   "source": [
    "## XGB"
   ]
  },
  {
   "cell_type": "code",
   "execution_count": 50,
   "id": "27c671ac",
   "metadata": {},
   "outputs": [],
   "source": [
    "import xgboost as xgb\n",
    "from sklearn.model_selection import train_test_split\n",
    "from sklearn.model_selection import RandomizedSearchCV"
   ]
  },
  {
   "cell_type": "code",
   "execution_count": 51,
   "id": "ddbdaa77",
   "metadata": {},
   "outputs": [],
   "source": [
    "# Tuning parameter grid\n",
    "xgb_cv_params = {\n",
    "    'max_depth': [3,4,5,6,7], \n",
    "    'min_child_weight': [1,2,3,4],\n",
    "    'subsample': [0.8,0.9,1], \n",
    "    'max_delta_step': [0,1,2,4],\n",
    "    'learning_rate': [0.05, 0.1, 0.15, 0.2, 0.25, 0.3],\n",
    "    'n_estimators' : [50, 75, 100],\n",
    "#     'booster': ['gbtree', 'dart']\n",
    "}   \n",
    "\n",
    "# Parameters fixed\n",
    "fix_params = {'objective': 'binary:logistic', 'eval_metric': 'logloss', 'use_label_encoder': False, 'tree_method': 'gpu_hist', 'verbosity':2}  \n",
    "\n",
    "# Create RandomizedSearchCV object\n",
    "csv = RandomizedSearchCV(xgb.XGBClassifier(**fix_params), xgb_cv_params, scoring = 'neg_log_loss', cv = 4, verbose=1, n_jobs= -1, n_iter= 30, random_state=42) #, random_state=42\n"
   ]
  },
  {
   "cell_type": "code",
   "execution_count": 52,
   "id": "9817b509",
   "metadata": {},
   "outputs": [],
   "source": [
    "# %%timeit\n",
    "# csv.fit(x_ou, y_ou)"
   ]
  },
  {
   "cell_type": "code",
   "execution_count": 53,
   "id": "786f1db6",
   "metadata": {},
   "outputs": [],
   "source": [
    "# print(f'Best model: {csv.best_estimator_}')\n",
    "# print(f'Best score: {csv.best_score_}')\n"
   ]
  },
  {
   "cell_type": "code",
   "execution_count": 54,
   "id": "aeae1425",
   "metadata": {},
   "outputs": [],
   "source": [
    "# Final model parameter list; in case\n",
    "\n",
    "fin_params = {\n",
    "    'base_score':0.5, 'booster':'gbtree', 'colsample_bylevel':1,\n",
    "              'colsample_bynode':1, 'colsample_bytree':1, 'enable_categorical':False,\n",
    "              'eval_metric':'logloss', 'gamma':0, 'gpu_id':0, 'importance_type':None,\n",
    "              'interaction_constraints':'', 'learning_rate':0.15, 'max_delta_step':2,\n",
    "              'max_depth':5, 'min_child_weight':4, \n",
    "              'monotone_constraints':'()', 'n_estimators':50, 'n_jobs':8,\n",
    "              'num_parallel_tree':1, 'predictor':'auto', 'random_state':0,\n",
    "              'reg_alpha':0, 'reg_lambda':1, 'scale_pos_weight':1, 'subsample':0.8,\n",
    "              'tree_method':'gpu_hist', 'use_label_encoder':False,\n",
    "              'validate_parameters':1, 'verbosity':2\n",
    "}\n"
   ]
  },
  {
   "cell_type": "code",
   "execution_count": 55,
   "id": "d6280066",
   "metadata": {},
   "outputs": [
    {
     "name": "stdout",
     "output_type": "stream",
     "text": [
      "[17:42:58] WARNING: ../src/learner.cc:576: \n",
      "Parameters: { \"enable_categorical\", \"n_estimators\", \"use_label_encoder\" } might not be used.\n",
      "\n",
      "  This could be a false alarm, with some parameters getting used by language bindings but\n",
      "  then being mistakenly passed down to XGBoost core, or some parameter actually being used\n",
      "  but getting flagged wrongly here. Please open an issue if you find any such cases.\n",
      "\n",
      "\n"
     ]
    }
   ],
   "source": [
    "# Train model on entire set\n",
    "dtrain = xgb.DMatrix(x_ou, y_ou)\n",
    "fin_xgb = xgb.train(fin_params, dtrain, num_boost_round = 200)"
   ]
  },
  {
   "cell_type": "markdown",
   "id": "7c7ef945",
   "metadata": {},
   "source": [
    "## Logistic Regression"
   ]
  },
  {
   "cell_type": "code",
   "execution_count": 56,
   "id": "44f7f337",
   "metadata": {},
   "outputs": [],
   "source": [
    "from sklearn.linear_model import LogisticRegressionCV\n",
    "from sklearn.preprocessing import StandardScaler"
   ]
  },
  {
   "cell_type": "code",
   "execution_count": 57,
   "id": "afb03545",
   "metadata": {},
   "outputs": [],
   "source": [
    "scaler = StandardScaler()\n",
    "x_ou_scaled = scaler.fit_transform(x_ou)"
   ]
  },
  {
   "cell_type": "code",
   "execution_count": 58,
   "id": "f07fd317",
   "metadata": {},
   "outputs": [],
   "source": [
    "lr_cv_params = {\n",
    "    'l1_ratios': [[0],[0.1], [0.25], [0.3], [0.4],[0.5], [0.6],[0.75],[1]],\n",
    "    'Cs': [1, 3, 5, 7, 10],\n",
    "    'tol' : [1e-4, 1e-3, 1e-2, 1e-1,1e-5]\n",
    "}   \n",
    "\n",
    "# Parameters fixed\n",
    "fix_params = {'cv': 5, 'n_jobs': 5, 'penalty':'elasticnet', 'solver':'saga'}  \n",
    "\n",
    "# Create RandomizedSearchCV object\n",
    "lr_csv = RandomizedSearchCV(LogisticRegressionCV(**fix_params), lr_cv_params, scoring = 'neg_log_loss', cv = 4, verbose=1, n_jobs= -1, n_iter= 30, random_state=42)\n",
    "\n"
   ]
  },
  {
   "cell_type": "code",
   "execution_count": 59,
   "id": "017e6548",
   "metadata": {},
   "outputs": [],
   "source": [
    "# %%timeit\n",
    "# lr_csv.fit(x_ou_scaled, y_ou)"
   ]
  },
  {
   "cell_type": "code",
   "execution_count": 60,
   "id": "b4283e0a",
   "metadata": {},
   "outputs": [],
   "source": [
    "# print(lr_csv.best_estimator_)\n",
    "# print(lr_csv.best_score_)"
   ]
  },
  {
   "cell_type": "code",
   "execution_count": 61,
   "id": "3647ed26",
   "metadata": {},
   "outputs": [],
   "source": [
    "lr =LogisticRegressionCV(cv=5, l1_ratios= [0], n_jobs=5, penalty='elasticnet',\n",
    "                     solver='saga', tol=0.01)"
   ]
  },
  {
   "cell_type": "code",
   "execution_count": 62,
   "id": "9eb56db9",
   "metadata": {},
   "outputs": [
    {
     "data": {
      "text/plain": [
       "LogisticRegressionCV(cv=5, l1_ratios=[0], n_jobs=5, penalty='elasticnet',\n",
       "                     solver='saga', tol=0.01)"
      ]
     },
     "execution_count": 62,
     "metadata": {},
     "output_type": "execute_result"
    }
   ],
   "source": [
    "lr.fit(x_ou_scaled, y_ou)"
   ]
  },
  {
   "cell_type": "markdown",
   "id": "1e6776f1",
   "metadata": {},
   "source": [
    "## Random Forests"
   ]
  },
  {
   "cell_type": "code",
   "execution_count": 63,
   "id": "d1f01204",
   "metadata": {},
   "outputs": [],
   "source": [
    "rf_fin = RandomForestClassifier(n_estimators= 200, criterion= 'entropy', max_depth= 5, max_features= 'sqrt', class_weight='balanced', ccp_alpha= 0.01, max_samples= 0.85)"
   ]
  },
  {
   "cell_type": "code",
   "execution_count": 64,
   "id": "c193f13f",
   "metadata": {},
   "outputs": [
    {
     "data": {
      "text/plain": [
       "RandomForestClassifier(ccp_alpha=0.01, class_weight='balanced',\n",
       "                       criterion='entropy', max_depth=5, max_features='sqrt',\n",
       "                       max_samples=0.85, n_estimators=200)"
      ]
     },
     "execution_count": 64,
     "metadata": {},
     "output_type": "execute_result"
    }
   ],
   "source": [
    "rf_fin.fit(x_ou, y_ou)"
   ]
  },
  {
   "cell_type": "markdown",
   "id": "ba4847fa",
   "metadata": {},
   "source": [
    "## Neural Network"
   ]
  },
  {
   "cell_type": "code",
   "execution_count": 65,
   "id": "ce488c2a",
   "metadata": {},
   "outputs": [
    {
     "name": "stderr",
     "output_type": "stream",
     "text": [
      "2021-12-14 17:43:26.438540: I tensorflow/stream_executor/platform/default/dso_loader.cc:49] Successfully opened dynamic library libcudart.so.10.1\n"
     ]
    }
   ],
   "source": [
    "import tensorflow as tf\n",
    "from tensorflow.keras.models import Sequential\n",
    "from tensorflow.keras.layers import Dense\n",
    "from tensorflow.keras.regularizers import l1\n",
    "from tensorflow import keras as keras"
   ]
  },
  {
   "cell_type": "code",
   "execution_count": 66,
   "id": "60f17c5b",
   "metadata": {},
   "outputs": [
    {
     "name": "stderr",
     "output_type": "stream",
     "text": [
      "2021-12-14 17:43:43.313145: I tensorflow/compiler/jit/xla_cpu_device.cc:41] Not creating XLA devices, tf_xla_enable_xla_devices not set\n",
      "2021-12-14 17:43:43.313573: I tensorflow/stream_executor/platform/default/dso_loader.cc:49] Successfully opened dynamic library libcuda.so.1\n",
      "2021-12-14 17:43:43.389314: I tensorflow/stream_executor/cuda/cuda_gpu_executor.cc:941] successful NUMA node read from SysFS had negative value (-1), but there must be at least one NUMA node, so returning NUMA node zero\n",
      "2021-12-14 17:43:43.390949: I tensorflow/core/common_runtime/gpu/gpu_device.cc:1720] Found device 0 with properties: \n",
      "pciBusID: 0000:01:00.0 name: NVIDIA GeForce GTX 1050 Ti computeCapability: 6.1\n",
      "coreClock: 1.62GHz coreCount: 6 deviceMemorySize: 3.95GiB deviceMemoryBandwidth: 104.43GiB/s\n",
      "2021-12-14 17:43:43.391097: I tensorflow/stream_executor/platform/default/dso_loader.cc:49] Successfully opened dynamic library libcudart.so.10.1\n",
      "2021-12-14 17:43:43.693776: I tensorflow/stream_executor/platform/default/dso_loader.cc:49] Successfully opened dynamic library libcublas.so.10\n",
      "2021-12-14 17:43:43.694034: I tensorflow/stream_executor/platform/default/dso_loader.cc:49] Successfully opened dynamic library libcublasLt.so.10\n",
      "2021-12-14 17:43:43.844453: I tensorflow/stream_executor/platform/default/dso_loader.cc:49] Successfully opened dynamic library libcufft.so.10\n",
      "2021-12-14 17:43:43.902596: I tensorflow/stream_executor/platform/default/dso_loader.cc:49] Successfully opened dynamic library libcurand.so.10\n",
      "2021-12-14 17:43:44.242901: I tensorflow/stream_executor/platform/default/dso_loader.cc:49] Successfully opened dynamic library libcusolver.so.10\n",
      "2021-12-14 17:43:44.303622: I tensorflow/stream_executor/platform/default/dso_loader.cc:49] Successfully opened dynamic library libcusparse.so.10\n",
      "2021-12-14 17:43:44.991039: I tensorflow/stream_executor/platform/default/dso_loader.cc:49] Successfully opened dynamic library libcudnn.so.7\n",
      "2021-12-14 17:43:44.991458: I tensorflow/stream_executor/cuda/cuda_gpu_executor.cc:941] successful NUMA node read from SysFS had negative value (-1), but there must be at least one NUMA node, so returning NUMA node zero\n",
      "2021-12-14 17:43:44.992503: I tensorflow/stream_executor/cuda/cuda_gpu_executor.cc:941] successful NUMA node read from SysFS had negative value (-1), but there must be at least one NUMA node, so returning NUMA node zero\n",
      "2021-12-14 17:43:44.993241: I tensorflow/core/common_runtime/gpu/gpu_device.cc:1862] Adding visible gpu devices: 0\n",
      "2021-12-14 17:43:44.994021: I tensorflow/core/platform/cpu_feature_guard.cc:142] This TensorFlow binary is optimized with oneAPI Deep Neural Network Library (oneDNN) to use the following CPU instructions in performance-critical operations:  SSE4.1 SSE4.2 AVX AVX2 FMA\n",
      "To enable them in other operations, rebuild TensorFlow with the appropriate compiler flags.\n",
      "2021-12-14 17:43:44.995165: I tensorflow/stream_executor/cuda/cuda_gpu_executor.cc:941] successful NUMA node read from SysFS had negative value (-1), but there must be at least one NUMA node, so returning NUMA node zero\n",
      "2021-12-14 17:43:44.996019: I tensorflow/core/common_runtime/gpu/gpu_device.cc:1720] Found device 0 with properties: \n",
      "pciBusID: 0000:01:00.0 name: NVIDIA GeForce GTX 1050 Ti computeCapability: 6.1\n",
      "coreClock: 1.62GHz coreCount: 6 deviceMemorySize: 3.95GiB deviceMemoryBandwidth: 104.43GiB/s\n",
      "2021-12-14 17:43:44.996137: I tensorflow/stream_executor/platform/default/dso_loader.cc:49] Successfully opened dynamic library libcudart.so.10.1\n",
      "2021-12-14 17:43:44.996224: I tensorflow/stream_executor/platform/default/dso_loader.cc:49] Successfully opened dynamic library libcublas.so.10\n",
      "2021-12-14 17:43:44.996300: I tensorflow/stream_executor/platform/default/dso_loader.cc:49] Successfully opened dynamic library libcublasLt.so.10\n",
      "2021-12-14 17:43:44.996372: I tensorflow/stream_executor/platform/default/dso_loader.cc:49] Successfully opened dynamic library libcufft.so.10\n",
      "2021-12-14 17:43:44.996446: I tensorflow/stream_executor/platform/default/dso_loader.cc:49] Successfully opened dynamic library libcurand.so.10\n",
      "2021-12-14 17:43:44.996520: I tensorflow/stream_executor/platform/default/dso_loader.cc:49] Successfully opened dynamic library libcusolver.so.10\n",
      "2021-12-14 17:43:44.996597: I tensorflow/stream_executor/platform/default/dso_loader.cc:49] Successfully opened dynamic library libcusparse.so.10\n",
      "2021-12-14 17:43:44.996671: I tensorflow/stream_executor/platform/default/dso_loader.cc:49] Successfully opened dynamic library libcudnn.so.7\n",
      "2021-12-14 17:43:44.996879: I tensorflow/stream_executor/cuda/cuda_gpu_executor.cc:941] successful NUMA node read from SysFS had negative value (-1), but there must be at least one NUMA node, so returning NUMA node zero\n",
      "2021-12-14 17:43:44.997792: I tensorflow/stream_executor/cuda/cuda_gpu_executor.cc:941] successful NUMA node read from SysFS had negative value (-1), but there must be at least one NUMA node, so returning NUMA node zero\n",
      "2021-12-14 17:43:44.998527: I tensorflow/core/common_runtime/gpu/gpu_device.cc:1862] Adding visible gpu devices: 0\n",
      "2021-12-14 17:43:45.013313: I tensorflow/stream_executor/platform/default/dso_loader.cc:49] Successfully opened dynamic library libcudart.so.10.1\n",
      "2021-12-14 17:43:51.687060: I tensorflow/core/common_runtime/gpu/gpu_device.cc:1261] Device interconnect StreamExecutor with strength 1 edge matrix:\n",
      "2021-12-14 17:43:51.687112: I tensorflow/core/common_runtime/gpu/gpu_device.cc:1267]      0 \n",
      "2021-12-14 17:43:51.687128: I tensorflow/core/common_runtime/gpu/gpu_device.cc:1280] 0:   N \n",
      "2021-12-14 17:43:51.709975: I tensorflow/stream_executor/cuda/cuda_gpu_executor.cc:941] successful NUMA node read from SysFS had negative value (-1), but there must be at least one NUMA node, so returning NUMA node zero\n",
      "2021-12-14 17:43:51.711052: I tensorflow/stream_executor/cuda/cuda_gpu_executor.cc:941] successful NUMA node read from SysFS had negative value (-1), but there must be at least one NUMA node, so returning NUMA node zero\n",
      "2021-12-14 17:43:51.712022: I tensorflow/stream_executor/cuda/cuda_gpu_executor.cc:941] successful NUMA node read from SysFS had negative value (-1), but there must be at least one NUMA node, so returning NUMA node zero\n",
      "2021-12-14 17:43:51.712809: I tensorflow/core/common_runtime/gpu/gpu_device.cc:1406] Created TensorFlow device (/job:localhost/replica:0/task:0/device:GPU:0 with 2975 MB memory) -> physical GPU (device: 0, name: NVIDIA GeForce GTX 1050 Ti, pci bus id: 0000:01:00.0, compute capability: 6.1)\n",
      "2021-12-14 17:43:51.739060: I tensorflow/compiler/jit/xla_gpu_device.cc:99] Not creating XLA devices, tf_xla_enable_xla_devices not set\n"
     ]
    }
   ],
   "source": [
    "model = Sequential([\n",
    "        Dense(100, input_dim=33, activation='relu'),\n",
    "        Dense(1, activation='sigmoid')\n",
    "    ])\n",
    "\n",
    "model.compile(optimizer='adam', loss='binary_crossentropy', metrics=['accuracy'])"
   ]
  },
  {
   "cell_type": "code",
   "execution_count": 67,
   "id": "367a6e10",
   "metadata": {},
   "outputs": [
    {
     "name": "stdout",
     "output_type": "stream",
     "text": [
      "Model: \"sequential\"\n",
      "_________________________________________________________________\n",
      "Layer (type)                 Output Shape              Param #   \n",
      "=================================================================\n",
      "dense (Dense)                (None, 100)               3400      \n",
      "_________________________________________________________________\n",
      "dense_1 (Dense)              (None, 1)                 101       \n",
      "=================================================================\n",
      "Total params: 3,501\n",
      "Trainable params: 3,501\n",
      "Non-trainable params: 0\n",
      "_________________________________________________________________\n"
     ]
    }
   ],
   "source": [
    "model.summary()"
   ]
  },
  {
   "cell_type": "code",
   "execution_count": 68,
   "id": "ffc690e7",
   "metadata": {
    "scrolled": true
   },
   "outputs": [],
   "source": [
    "# history = model.fit(x_ou_scaled, y_ou, epochs= 100, verbose= 1, validation_split=0.2, shuffle= True, initial_epoch= 1)"
   ]
  },
  {
   "cell_type": "code",
   "execution_count": 69,
   "id": "c4ee4b48",
   "metadata": {},
   "outputs": [],
   "source": [
    "# history.history"
   ]
  },
  {
   "cell_type": "code",
   "execution_count": 71,
   "id": "115fe5eb",
   "metadata": {},
   "outputs": [],
   "source": [
    "# import matplotlib.pyplot as plt\n",
    "# plt.plot(range(1, 100), history.history['binary_crossentropy'])\n",
    "# plt.plot(range(1, 100), history.history['val_binary_crossentropy'])"
   ]
  },
  {
   "cell_type": "markdown",
   "id": "bfc3eb37",
   "metadata": {},
   "source": [
    "## Note: Below lines of code are for making predictions only and can be ignored"
   ]
  },
  {
   "cell_type": "markdown",
   "id": "5cc295d1",
   "metadata": {},
   "source": [
    "### Test"
   ]
  },
  {
   "cell_type": "code",
   "execution_count": 72,
   "id": "19ae620c",
   "metadata": {},
   "outputs": [],
   "source": [
    "test_df = df = std_col_names(pd.read_csv('./data/test.csv'))"
   ]
  },
  {
   "cell_type": "code",
   "execution_count": 73,
   "id": "d5f81ab6",
   "metadata": {},
   "outputs": [
    {
     "data": {
      "text/html": [
       "<div>\n",
       "<style scoped>\n",
       "    .dataframe tbody tr th:only-of-type {\n",
       "        vertical-align: middle;\n",
       "    }\n",
       "\n",
       "    .dataframe tbody tr th {\n",
       "        vertical-align: top;\n",
       "    }\n",
       "\n",
       "    .dataframe thead th {\n",
       "        text-align: right;\n",
       "    }\n",
       "</style>\n",
       "<table border=\"1\" class=\"dataframe\">\n",
       "  <thead>\n",
       "    <tr style=\"text-align: right;\">\n",
       "      <th></th>\n",
       "      <th>id</th>\n",
       "      <th>loan_amount</th>\n",
       "      <th>funded_amount</th>\n",
       "      <th>funded_amount_investor</th>\n",
       "      <th>term</th>\n",
       "      <th>batch_enrolled</th>\n",
       "      <th>interest_rate</th>\n",
       "      <th>grade</th>\n",
       "      <th>sub_grade</th>\n",
       "      <th>property</th>\n",
       "      <th>emp_duration</th>\n",
       "      <th>verification_status</th>\n",
       "      <th>payment_plan</th>\n",
       "      <th>loan_title</th>\n",
       "      <th>debt_to_income</th>\n",
       "      <th>delinquency_-_two_years</th>\n",
       "      <th>inquires_-_six_months</th>\n",
       "      <th>open_account</th>\n",
       "      <th>public_record</th>\n",
       "      <th>revolving_balance</th>\n",
       "      <th>revolving_utilities</th>\n",
       "      <th>total_accounts</th>\n",
       "      <th>initial_list_status</th>\n",
       "      <th>total_received_interest</th>\n",
       "      <th>total_received_late_fee</th>\n",
       "      <th>recoveries</th>\n",
       "      <th>collection_recovery_fee</th>\n",
       "      <th>collection_12_months_medical</th>\n",
       "      <th>application_type</th>\n",
       "      <th>last_week_pay</th>\n",
       "      <th>accounts_delinquent</th>\n",
       "      <th>total_collection_amount</th>\n",
       "      <th>total_current_balance</th>\n",
       "      <th>total_revolving_credit_limit</th>\n",
       "      <th>loan_status</th>\n",
       "    </tr>\n",
       "  </thead>\n",
       "  <tbody>\n",
       "    <tr>\n",
       "      <th>0</th>\n",
       "      <td>56492997</td>\n",
       "      <td>17120</td>\n",
       "      <td>10365</td>\n",
       "      <td>16025.082690</td>\n",
       "      <td>59</td>\n",
       "      <td>BAT2575549</td>\n",
       "      <td>12.163926</td>\n",
       "      <td>A</td>\n",
       "      <td>D1</td>\n",
       "      <td>RENT</td>\n",
       "      <td>76468.82190</td>\n",
       "      <td>Source Verified</td>\n",
       "      <td>n</td>\n",
       "      <td>home_improvement</td>\n",
       "      <td>16.749219</td>\n",
       "      <td>1</td>\n",
       "      <td>0</td>\n",
       "      <td>12</td>\n",
       "      <td>1</td>\n",
       "      <td>3576</td>\n",
       "      <td>67.278287</td>\n",
       "      <td>5</td>\n",
       "      <td>f</td>\n",
       "      <td>4469.449851</td>\n",
       "      <td>0.088031</td>\n",
       "      <td>8.425776</td>\n",
       "      <td>0.731797</td>\n",
       "      <td>0</td>\n",
       "      <td>INDIVIDUAL</td>\n",
       "      <td>135</td>\n",
       "      <td>0</td>\n",
       "      <td>24</td>\n",
       "      <td>475442</td>\n",
       "      <td>4364</td>\n",
       "      <td>NaN</td>\n",
       "    </tr>\n",
       "    <tr>\n",
       "      <th>1</th>\n",
       "      <td>22540813</td>\n",
       "      <td>7133</td>\n",
       "      <td>11650</td>\n",
       "      <td>12615.795600</td>\n",
       "      <td>59</td>\n",
       "      <td>BAT2833642</td>\n",
       "      <td>6.564296</td>\n",
       "      <td>B</td>\n",
       "      <td>E3</td>\n",
       "      <td>MORTGAGE</td>\n",
       "      <td>38079.01344</td>\n",
       "      <td>Source Verified</td>\n",
       "      <td>n</td>\n",
       "      <td>credit_card_refinancing</td>\n",
       "      <td>18.157975</td>\n",
       "      <td>0</td>\n",
       "      <td>0</td>\n",
       "      <td>11</td>\n",
       "      <td>0</td>\n",
       "      <td>1932</td>\n",
       "      <td>71.313157</td>\n",
       "      <td>21</td>\n",
       "      <td>w</td>\n",
       "      <td>993.907530</td>\n",
       "      <td>0.041237</td>\n",
       "      <td>6.157008</td>\n",
       "      <td>0.992918</td>\n",
       "      <td>0</td>\n",
       "      <td>INDIVIDUAL</td>\n",
       "      <td>56</td>\n",
       "      <td>0</td>\n",
       "      <td>1</td>\n",
       "      <td>72412</td>\n",
       "      <td>2573</td>\n",
       "      <td>NaN</td>\n",
       "    </tr>\n",
       "    <tr>\n",
       "      <th>2</th>\n",
       "      <td>9862181</td>\n",
       "      <td>25291</td>\n",
       "      <td>25825</td>\n",
       "      <td>11621.280830</td>\n",
       "      <td>59</td>\n",
       "      <td>BAT1761981</td>\n",
       "      <td>14.729900</td>\n",
       "      <td>A</td>\n",
       "      <td>C3</td>\n",
       "      <td>MORTGAGE</td>\n",
       "      <td>51275.93268</td>\n",
       "      <td>Source Verified</td>\n",
       "      <td>n</td>\n",
       "      <td>debt_consolidation</td>\n",
       "      <td>15.190011</td>\n",
       "      <td>0</td>\n",
       "      <td>0</td>\n",
       "      <td>22</td>\n",
       "      <td>0</td>\n",
       "      <td>598</td>\n",
       "      <td>50.883065</td>\n",
       "      <td>23</td>\n",
       "      <td>f</td>\n",
       "      <td>729.113379</td>\n",
       "      <td>0.021745</td>\n",
       "      <td>5.705077</td>\n",
       "      <td>0.281580</td>\n",
       "      <td>0</td>\n",
       "      <td>INDIVIDUAL</td>\n",
       "      <td>3</td>\n",
       "      <td>0</td>\n",
       "      <td>26</td>\n",
       "      <td>284825</td>\n",
       "      <td>19676</td>\n",
       "      <td>NaN</td>\n",
       "    </tr>\n",
       "    <tr>\n",
       "      <th>3</th>\n",
       "      <td>10097822</td>\n",
       "      <td>30781</td>\n",
       "      <td>9664</td>\n",
       "      <td>15375.823510</td>\n",
       "      <td>59</td>\n",
       "      <td>BAT5341619</td>\n",
       "      <td>10.523767</td>\n",
       "      <td>A</td>\n",
       "      <td>A2</td>\n",
       "      <td>RENT</td>\n",
       "      <td>68867.98965</td>\n",
       "      <td>Verified</td>\n",
       "      <td>n</td>\n",
       "      <td>debt_consolidation</td>\n",
       "      <td>21.292550</td>\n",
       "      <td>0</td>\n",
       "      <td>0</td>\n",
       "      <td>11</td>\n",
       "      <td>0</td>\n",
       "      <td>5222</td>\n",
       "      <td>82.449083</td>\n",
       "      <td>28</td>\n",
       "      <td>w</td>\n",
       "      <td>715.867091</td>\n",
       "      <td>0.092398</td>\n",
       "      <td>2.469688</td>\n",
       "      <td>0.959162</td>\n",
       "      <td>0</td>\n",
       "      <td>INDIVIDUAL</td>\n",
       "      <td>21</td>\n",
       "      <td>0</td>\n",
       "      <td>32</td>\n",
       "      <td>40842</td>\n",
       "      <td>7226</td>\n",
       "      <td>NaN</td>\n",
       "    </tr>\n",
       "    <tr>\n",
       "      <th>4</th>\n",
       "      <td>47771809</td>\n",
       "      <td>8878</td>\n",
       "      <td>9419</td>\n",
       "      <td>7176.647582</td>\n",
       "      <td>58</td>\n",
       "      <td>BAT4694572</td>\n",
       "      <td>9.997013</td>\n",
       "      <td>C</td>\n",
       "      <td>B3</td>\n",
       "      <td>OWN</td>\n",
       "      <td>91556.85423</td>\n",
       "      <td>Verified</td>\n",
       "      <td>n</td>\n",
       "      <td>debt_consolidation</td>\n",
       "      <td>4.812117</td>\n",
       "      <td>0</td>\n",
       "      <td>0</td>\n",
       "      <td>11</td>\n",
       "      <td>0</td>\n",
       "      <td>553</td>\n",
       "      <td>49.075855</td>\n",
       "      <td>9</td>\n",
       "      <td>w</td>\n",
       "      <td>248.572854</td>\n",
       "      <td>0.010354</td>\n",
       "      <td>2.127835</td>\n",
       "      <td>0.402315</td>\n",
       "      <td>0</td>\n",
       "      <td>INDIVIDUAL</td>\n",
       "      <td>104</td>\n",
       "      <td>0</td>\n",
       "      <td>33</td>\n",
       "      <td>90825</td>\n",
       "      <td>26145</td>\n",
       "      <td>NaN</td>\n",
       "    </tr>\n",
       "  </tbody>\n",
       "</table>\n",
       "</div>"
      ],
      "text/plain": [
       "         id  loan_amount  funded_amount  funded_amount_investor  term  \\\n",
       "0  56492997        17120          10365            16025.082690    59   \n",
       "1  22540813         7133          11650            12615.795600    59   \n",
       "2   9862181        25291          25825            11621.280830    59   \n",
       "3  10097822        30781           9664            15375.823510    59   \n",
       "4  47771809         8878           9419             7176.647582    58   \n",
       "\n",
       "  batch_enrolled  interest_rate grade sub_grade  property  emp_duration  \\\n",
       "0     BAT2575549      12.163926     A        D1      RENT   76468.82190   \n",
       "1     BAT2833642       6.564296     B        E3  MORTGAGE   38079.01344   \n",
       "2     BAT1761981      14.729900     A        C3  MORTGAGE   51275.93268   \n",
       "3     BAT5341619      10.523767     A        A2      RENT   68867.98965   \n",
       "4     BAT4694572       9.997013     C        B3       OWN   91556.85423   \n",
       "\n",
       "  verification_status payment_plan               loan_title  debt_to_income  \\\n",
       "0     Source Verified            n         home_improvement       16.749219   \n",
       "1     Source Verified            n  credit_card_refinancing       18.157975   \n",
       "2     Source Verified            n       debt_consolidation       15.190011   \n",
       "3            Verified            n       debt_consolidation       21.292550   \n",
       "4            Verified            n       debt_consolidation        4.812117   \n",
       "\n",
       "   delinquency_-_two_years  inquires_-_six_months  open_account  \\\n",
       "0                        1                      0            12   \n",
       "1                        0                      0            11   \n",
       "2                        0                      0            22   \n",
       "3                        0                      0            11   \n",
       "4                        0                      0            11   \n",
       "\n",
       "   public_record  revolving_balance  revolving_utilities  total_accounts  \\\n",
       "0              1               3576            67.278287               5   \n",
       "1              0               1932            71.313157              21   \n",
       "2              0                598            50.883065              23   \n",
       "3              0               5222            82.449083              28   \n",
       "4              0                553            49.075855               9   \n",
       "\n",
       "  initial_list_status  total_received_interest  total_received_late_fee  \\\n",
       "0                   f              4469.449851                 0.088031   \n",
       "1                   w               993.907530                 0.041237   \n",
       "2                   f               729.113379                 0.021745   \n",
       "3                   w               715.867091                 0.092398   \n",
       "4                   w               248.572854                 0.010354   \n",
       "\n",
       "   recoveries  collection_recovery_fee  collection_12_months_medical  \\\n",
       "0    8.425776                 0.731797                             0   \n",
       "1    6.157008                 0.992918                             0   \n",
       "2    5.705077                 0.281580                             0   \n",
       "3    2.469688                 0.959162                             0   \n",
       "4    2.127835                 0.402315                             0   \n",
       "\n",
       "  application_type  last_week_pay  accounts_delinquent  \\\n",
       "0       INDIVIDUAL            135                    0   \n",
       "1       INDIVIDUAL             56                    0   \n",
       "2       INDIVIDUAL              3                    0   \n",
       "3       INDIVIDUAL             21                    0   \n",
       "4       INDIVIDUAL            104                    0   \n",
       "\n",
       "   total_collection_amount  total_current_balance  \\\n",
       "0                       24                 475442   \n",
       "1                        1                  72412   \n",
       "2                       26                 284825   \n",
       "3                       32                  40842   \n",
       "4                       33                  90825   \n",
       "\n",
       "   total_revolving_credit_limit  loan_status  \n",
       "0                          4364          NaN  \n",
       "1                          2573          NaN  \n",
       "2                         19676          NaN  \n",
       "3                          7226          NaN  \n",
       "4                         26145          NaN  "
      ]
     },
     "execution_count": 73,
     "metadata": {},
     "output_type": "execute_result"
    }
   ],
   "source": [
    "test_df.head()"
   ]
  },
  {
   "cell_type": "code",
   "execution_count": 74,
   "id": "229ef79c",
   "metadata": {},
   "outputs": [],
   "source": [
    "test_dict, test_dv = transform_dv(test_df[num_cols+cat_cols], dv= dv)"
   ]
  },
  {
   "cell_type": "code",
   "execution_count": 75,
   "id": "d4c04e41",
   "metadata": {
    "collapsed": true
   },
   "outputs": [
    {
     "ename": "ValueError",
     "evalue": "X has 33 features, but DecisionTreeClassifier is expecting 39 features as input.",
     "output_type": "error",
     "traceback": [
      "\u001b[0;31m---------------------------------------------------------------------------\u001b[0m",
      "\u001b[0;31mValueError\u001b[0m                                Traceback (most recent call last)",
      "\u001b[0;32m/tmp/ipykernel_23418/2658532083.py\u001b[0m in \u001b[0;36m<module>\u001b[0;34m\u001b[0m\n\u001b[0;32m----> 1\u001b[0;31m \u001b[0mtest_pred\u001b[0m \u001b[0;34m=\u001b[0m \u001b[0mrf\u001b[0m\u001b[0;34m.\u001b[0m\u001b[0mpredict\u001b[0m\u001b[0;34m(\u001b[0m\u001b[0mtest_dv\u001b[0m\u001b[0;34m)\u001b[0m\u001b[0;34m\u001b[0m\u001b[0;34m\u001b[0m\u001b[0m\n\u001b[0m",
      "\u001b[0;32m~/anaconda3/envs/ml/lib/python3.8/site-packages/sklearn/ensemble/_forest.py\u001b[0m in \u001b[0;36mpredict\u001b[0;34m(self, X)\u001b[0m\n\u001b[1;32m    628\u001b[0m             \u001b[0mThe\u001b[0m \u001b[0mpredicted\u001b[0m \u001b[0mclasses\u001b[0m\u001b[0;34m.\u001b[0m\u001b[0;34m\u001b[0m\u001b[0;34m\u001b[0m\u001b[0m\n\u001b[1;32m    629\u001b[0m         \"\"\"\n\u001b[0;32m--> 630\u001b[0;31m         \u001b[0mproba\u001b[0m \u001b[0;34m=\u001b[0m \u001b[0mself\u001b[0m\u001b[0;34m.\u001b[0m\u001b[0mpredict_proba\u001b[0m\u001b[0;34m(\u001b[0m\u001b[0mX\u001b[0m\u001b[0;34m)\u001b[0m\u001b[0;34m\u001b[0m\u001b[0;34m\u001b[0m\u001b[0m\n\u001b[0m\u001b[1;32m    631\u001b[0m \u001b[0;34m\u001b[0m\u001b[0m\n\u001b[1;32m    632\u001b[0m         \u001b[0;32mif\u001b[0m \u001b[0mself\u001b[0m\u001b[0;34m.\u001b[0m\u001b[0mn_outputs_\u001b[0m \u001b[0;34m==\u001b[0m \u001b[0;36m1\u001b[0m\u001b[0;34m:\u001b[0m\u001b[0;34m\u001b[0m\u001b[0;34m\u001b[0m\u001b[0m\n",
      "\u001b[0;32m~/anaconda3/envs/ml/lib/python3.8/site-packages/sklearn/ensemble/_forest.py\u001b[0m in \u001b[0;36mpredict_proba\u001b[0;34m(self, X)\u001b[0m\n\u001b[1;32m    672\u001b[0m         \u001b[0mcheck_is_fitted\u001b[0m\u001b[0;34m(\u001b[0m\u001b[0mself\u001b[0m\u001b[0;34m)\u001b[0m\u001b[0;34m\u001b[0m\u001b[0;34m\u001b[0m\u001b[0m\n\u001b[1;32m    673\u001b[0m         \u001b[0;31m# Check data\u001b[0m\u001b[0;34m\u001b[0m\u001b[0;34m\u001b[0m\u001b[0;34m\u001b[0m\u001b[0m\n\u001b[0;32m--> 674\u001b[0;31m         \u001b[0mX\u001b[0m \u001b[0;34m=\u001b[0m \u001b[0mself\u001b[0m\u001b[0;34m.\u001b[0m\u001b[0m_validate_X_predict\u001b[0m\u001b[0;34m(\u001b[0m\u001b[0mX\u001b[0m\u001b[0;34m)\u001b[0m\u001b[0;34m\u001b[0m\u001b[0;34m\u001b[0m\u001b[0m\n\u001b[0m\u001b[1;32m    675\u001b[0m \u001b[0;34m\u001b[0m\u001b[0m\n\u001b[1;32m    676\u001b[0m         \u001b[0;31m# Assign chunk of trees to jobs\u001b[0m\u001b[0;34m\u001b[0m\u001b[0;34m\u001b[0m\u001b[0;34m\u001b[0m\u001b[0m\n",
      "\u001b[0;32m~/anaconda3/envs/ml/lib/python3.8/site-packages/sklearn/ensemble/_forest.py\u001b[0m in \u001b[0;36m_validate_X_predict\u001b[0;34m(self, X)\u001b[0m\n\u001b[1;32m    420\u001b[0m         \u001b[0mcheck_is_fitted\u001b[0m\u001b[0;34m(\u001b[0m\u001b[0mself\u001b[0m\u001b[0;34m)\u001b[0m\u001b[0;34m\u001b[0m\u001b[0;34m\u001b[0m\u001b[0m\n\u001b[1;32m    421\u001b[0m \u001b[0;34m\u001b[0m\u001b[0m\n\u001b[0;32m--> 422\u001b[0;31m         \u001b[0;32mreturn\u001b[0m \u001b[0mself\u001b[0m\u001b[0;34m.\u001b[0m\u001b[0mestimators_\u001b[0m\u001b[0;34m[\u001b[0m\u001b[0;36m0\u001b[0m\u001b[0;34m]\u001b[0m\u001b[0;34m.\u001b[0m\u001b[0m_validate_X_predict\u001b[0m\u001b[0;34m(\u001b[0m\u001b[0mX\u001b[0m\u001b[0;34m,\u001b[0m \u001b[0mcheck_input\u001b[0m\u001b[0;34m=\u001b[0m\u001b[0;32mTrue\u001b[0m\u001b[0;34m)\u001b[0m\u001b[0;34m\u001b[0m\u001b[0;34m\u001b[0m\u001b[0m\n\u001b[0m\u001b[1;32m    423\u001b[0m \u001b[0;34m\u001b[0m\u001b[0m\n\u001b[1;32m    424\u001b[0m     \u001b[0;34m@\u001b[0m\u001b[0mproperty\u001b[0m\u001b[0;34m\u001b[0m\u001b[0;34m\u001b[0m\u001b[0m\n",
      "\u001b[0;32m~/anaconda3/envs/ml/lib/python3.8/site-packages/sklearn/tree/_classes.py\u001b[0m in \u001b[0;36m_validate_X_predict\u001b[0;34m(self, X, check_input)\u001b[0m\n\u001b[1;32m    405\u001b[0m         \u001b[0;34m\"\"\"Validate the training data on predict (probabilities).\"\"\"\u001b[0m\u001b[0;34m\u001b[0m\u001b[0;34m\u001b[0m\u001b[0m\n\u001b[1;32m    406\u001b[0m         \u001b[0;32mif\u001b[0m \u001b[0mcheck_input\u001b[0m\u001b[0;34m:\u001b[0m\u001b[0;34m\u001b[0m\u001b[0;34m\u001b[0m\u001b[0m\n\u001b[0;32m--> 407\u001b[0;31m             X = self._validate_data(X, dtype=DTYPE, accept_sparse=\"csr\",\n\u001b[0m\u001b[1;32m    408\u001b[0m                                     reset=False)\n\u001b[1;32m    409\u001b[0m             if issparse(X) and (X.indices.dtype != np.intc or\n",
      "\u001b[0;32m~/anaconda3/envs/ml/lib/python3.8/site-packages/sklearn/base.py\u001b[0m in \u001b[0;36m_validate_data\u001b[0;34m(self, X, y, reset, validate_separately, **check_params)\u001b[0m\n\u001b[1;32m    435\u001b[0m \u001b[0;34m\u001b[0m\u001b[0m\n\u001b[1;32m    436\u001b[0m         \u001b[0;32mif\u001b[0m \u001b[0mcheck_params\u001b[0m\u001b[0;34m.\u001b[0m\u001b[0mget\u001b[0m\u001b[0;34m(\u001b[0m\u001b[0;34m'ensure_2d'\u001b[0m\u001b[0;34m,\u001b[0m \u001b[0;32mTrue\u001b[0m\u001b[0;34m)\u001b[0m\u001b[0;34m:\u001b[0m\u001b[0;34m\u001b[0m\u001b[0;34m\u001b[0m\u001b[0m\n\u001b[0;32m--> 437\u001b[0;31m             \u001b[0mself\u001b[0m\u001b[0;34m.\u001b[0m\u001b[0m_check_n_features\u001b[0m\u001b[0;34m(\u001b[0m\u001b[0mX\u001b[0m\u001b[0;34m,\u001b[0m \u001b[0mreset\u001b[0m\u001b[0;34m=\u001b[0m\u001b[0mreset\u001b[0m\u001b[0;34m)\u001b[0m\u001b[0;34m\u001b[0m\u001b[0;34m\u001b[0m\u001b[0m\n\u001b[0m\u001b[1;32m    438\u001b[0m \u001b[0;34m\u001b[0m\u001b[0m\n\u001b[1;32m    439\u001b[0m         \u001b[0;32mreturn\u001b[0m \u001b[0mout\u001b[0m\u001b[0;34m\u001b[0m\u001b[0;34m\u001b[0m\u001b[0m\n",
      "\u001b[0;32m~/anaconda3/envs/ml/lib/python3.8/site-packages/sklearn/base.py\u001b[0m in \u001b[0;36m_check_n_features\u001b[0;34m(self, X, reset)\u001b[0m\n\u001b[1;32m    363\u001b[0m \u001b[0;34m\u001b[0m\u001b[0m\n\u001b[1;32m    364\u001b[0m         \u001b[0;32mif\u001b[0m \u001b[0mn_features\u001b[0m \u001b[0;34m!=\u001b[0m \u001b[0mself\u001b[0m\u001b[0;34m.\u001b[0m\u001b[0mn_features_in_\u001b[0m\u001b[0;34m:\u001b[0m\u001b[0;34m\u001b[0m\u001b[0;34m\u001b[0m\u001b[0m\n\u001b[0;32m--> 365\u001b[0;31m             raise ValueError(\n\u001b[0m\u001b[1;32m    366\u001b[0m                 \u001b[0;34mf\"X has {n_features} features, but {self.__class__.__name__} \"\u001b[0m\u001b[0;34m\u001b[0m\u001b[0;34m\u001b[0m\u001b[0m\n\u001b[1;32m    367\u001b[0m                 f\"is expecting {self.n_features_in_} features as input.\")\n",
      "\u001b[0;31mValueError\u001b[0m: X has 33 features, but DecisionTreeClassifier is expecting 39 features as input."
     ]
    }
   ],
   "source": [
    "test_pred = rf.predict(test_dv)"
   ]
  },
  {
   "cell_type": "code",
   "execution_count": null,
   "id": "c576fa70",
   "metadata": {},
   "outputs": [],
   "source": [
    "test_pred2 = rf_bal.predict(test_dv)"
   ]
  },
  {
   "cell_type": "markdown",
   "id": "b4749150",
   "metadata": {},
   "source": [
    "## Include `bal_acc` in test set"
   ]
  },
  {
   "cell_type": "code",
   "execution_count": null,
   "id": "fd668b31",
   "metadata": {},
   "outputs": [],
   "source": [
    "test_df['bal_acc'] = test_df['total_accounts'] - test_df['open_account']"
   ]
  },
  {
   "cell_type": "code",
   "execution_count": null,
   "id": "b9d6485d",
   "metadata": {},
   "outputs": [],
   "source": [
    "test_dict, test_dv = transform_dv(test_df[skim_num_cols+cat_cols], dv= dv)"
   ]
  },
  {
   "cell_type": "code",
   "execution_count": null,
   "id": "e5302df6",
   "metadata": {},
   "outputs": [],
   "source": [
    "test_pred3 = rf_skim.predict(test_dv)\n",
    "# pd.Series(test_pred3).value_counts()"
   ]
  },
  {
   "cell_type": "code",
   "execution_count": null,
   "id": "a0daadc7",
   "metadata": {},
   "outputs": [],
   "source": [
    "test_pred4 = rf_ou.predict(test_dv)\n",
    "# pd.Series(test_pred4).value_counts()"
   ]
  },
  {
   "cell_type": "code",
   "execution_count": null,
   "id": "6f62dd2d",
   "metadata": {},
   "outputs": [],
   "source": [
    "dtest = xgb.DMatrix(test_dv)\n",
    "test_pred5 = fin_xgb.predict(dtest)\n",
    "\n",
    "\n",
    "thresh = 0.35\n",
    "test_pred5[test_pred5>thresh] = 1\n",
    "test_pred5[test_pred5 <= thresh] = 0\n",
    "test_pred5 = test_pred5.astype('int')\n"
   ]
  },
  {
   "cell_type": "code",
   "execution_count": null,
   "id": "f4817b5c",
   "metadata": {},
   "outputs": [],
   "source": [
    "pd.Series(test_pred5).value_counts()"
   ]
  },
  {
   "cell_type": "code",
   "execution_count": null,
   "id": "d6d968b1",
   "metadata": {},
   "outputs": [],
   "source": [
    "test_df_scaled = scaler.transform(test_dv)\n",
    "\n",
    "test_pred6 = lr.predict(test_df_scaled)"
   ]
  },
  {
   "cell_type": "code",
   "execution_count": null,
   "id": "c243a79a",
   "metadata": {},
   "outputs": [],
   "source": [
    "test_pred7 = rf_fin.predict(test_dv)"
   ]
  },
  {
   "cell_type": "markdown",
   "id": "67f26330",
   "metadata": {},
   "source": [
    "## Aggregating outputs"
   ]
  },
  {
   "cell_type": "code",
   "execution_count": null,
   "id": "60b97112",
   "metadata": {},
   "outputs": [],
   "source": [
    "op_df = pd.DataFrame({'xgb': test_pred5, 'lr': test_pred6, 'rf': test_pred7})\n",
    "op_df['xgb_bin'] = op_df['xgb'].map(lambda x: 1 if x > 0.5 else 0)"
   ]
  },
  {
   "cell_type": "code",
   "execution_count": null,
   "id": "c694fd1e",
   "metadata": {},
   "outputs": [],
   "source": [
    "print(op_df['xgb_bin'].value_counts())\n",
    "print(op_df['rf'].value_counts())\n",
    "print(op_df['lr'].value_counts())"
   ]
  },
  {
   "cell_type": "code",
   "execution_count": null,
   "id": "e234acc6",
   "metadata": {},
   "outputs": [],
   "source": [
    "def get_sub(arr, outfile= 'sub.csv'):\n",
    "    \"\"\"\n",
    "    Convert predicted output to a dataframe and extract to local\n",
    "    \"\"\"\n",
    "    out_df = pd.DataFrame(arr, columns=['Loan Status'])\n",
    "    out_df.to_csv(outfile, index= False)\n",
    "    return out_df"
   ]
  },
  {
   "cell_type": "code",
   "execution_count": null,
   "id": "f4eb0fef",
   "metadata": {},
   "outputs": [],
   "source": [
    "# sub6 = get_sub(test_pred5, './subs/sub6.csv')"
   ]
  },
  {
   "cell_type": "markdown",
   "id": "a66e5eda",
   "metadata": {},
   "source": [
    "## Extract test samples"
   ]
  },
  {
   "cell_type": "code",
   "execution_count": null,
   "id": "d6c9f892",
   "metadata": {},
   "outputs": [],
   "source": [
    "from sklearn.utils import shuffle\n",
    "\n",
    "non_default = test_df.sample(5)\n",
    "default = test_df.iloc[[23, 93, 1233, 2007, 2127]]\n",
    "\n",
    "samples= shuffle(pd.concat([non_default, default], axis= 0), random_state= 42)\n"
   ]
  },
  {
   "cell_type": "code",
   "execution_count": null,
   "id": "61d18efb",
   "metadata": {},
   "outputs": [],
   "source": [
    "samples_json = samples.to_json(orient='records')"
   ]
  },
  {
   "cell_type": "code",
   "execution_count": null,
   "id": "79d07d86",
   "metadata": {},
   "outputs": [],
   "source": [
    "# with open('sample_test.json', 'w') as outfile:\n",
    "#     outfile.write(samples_json)"
   ]
  },
  {
   "cell_type": "code",
   "execution_count": null,
   "id": "e261482a",
   "metadata": {},
   "outputs": [],
   "source": [
    "# df[df['loan_status']==1].sample(10).to_json(orient='records')"
   ]
  },
  {
   "cell_type": "markdown",
   "id": "47cc58b6",
   "metadata": {},
   "source": [
    "## References\n",
    "\n",
    "- [Resampling](https://datascience.stackexchange.com/questions/57882/resampling-for-imbalaced-datasets-should-testing-set-also-be-resampled\n",
    ")"
   ]
  },
  {
   "cell_type": "code",
   "execution_count": null,
   "id": "1ca6eee6",
   "metadata": {},
   "outputs": [],
   "source": []
  }
 ],
 "metadata": {
  "kernelspec": {
   "display_name": "Python [conda env:ml] *",
   "language": "python",
   "name": "conda-env-ml-py"
  },
  "language_info": {
   "codemirror_mode": {
    "name": "ipython",
    "version": 3
   },
   "file_extension": ".py",
   "mimetype": "text/x-python",
   "name": "python",
   "nbconvert_exporter": "python",
   "pygments_lexer": "ipython3",
   "version": "3.8.11"
  }
 },
 "nbformat": 4,
 "nbformat_minor": 5
}
